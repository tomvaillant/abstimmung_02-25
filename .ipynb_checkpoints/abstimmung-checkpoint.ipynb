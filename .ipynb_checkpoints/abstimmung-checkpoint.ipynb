{
 "cells": [
  {
   "cell_type": "code",
   "execution_count": 1,
   "id": "03a9fdf6-a92a-4da6-b345-87ae9b03aaf4",
   "metadata": {},
   "outputs": [
    {
     "name": "stdout",
     "output_type": "stream",
     "text": [
      "Starting script...\n",
      "Data successfully loaded\n",
      "Processing data...\n",
      "Saved abstimmung_geo_results.json with 1 entries\n"
     ]
    }
   ],
   "source": [
    "import requests\n",
    "import pandas as pd\n",
    "import json\n",
    "\n",
    "print(\"Starting script...\")  # Add this line to verify the script starts\n",
    "\n",
    "response = requests.get(\"https://ogd-static.voteinfo-app.ch/v1/ogd/sd-t-17-02-20250209-eidgAbstimmung-o.json\")\n",
    "if response.status_code == 200:\n",
    "    data = response.json()\n",
    "    \n",
    "    print(\"Data successfully loaded\")\n",
    "    with open('voting_data.json', 'w', encoding='utf-8') as f:\n",
    "        json.dump(data, f, ensure_ascii=False, indent=2)\n",
    "else:\n",
    "    print(f\"Failed to fetch data. Status code: {response.status_code}\")\n",
    "\n",
    "# Add a print here to verify we got past the first part\n",
    "print(\"Processing data...\")\n",
    "\n",
    "export_array = []\n",
    "# Iterate through all vorlagen\n",
    "for vorlage in data['schweiz']['vorlagen']:\n",
    "   # Create a dictionary for each vorlage with titles and kantone data\n",
    "   export_data = {\n",
    "       'id': vorlage['vorlagenId'],\n",
    "       'vorlagenTitel': vorlage['vorlagenTitel'], \n",
    "       'kantone': vorlage['kantone']\n",
    "   }\n",
    "   # Add the dictionary to our array\n",
    "   export_array.append(export_data)\n",
    "# Save the entire array to a single JSON file\n",
    "with open('abstimmung_geo_results.json', 'w', encoding='utf-8') as f:\n",
    "   json.dump(export_array, f, ensure_ascii=False, indent=2)\n",
    "print(f\"Saved abstimmung_geo_results.json with {len(export_array)} entries\")"
   ]
  },
  {
   "cell_type": "code",
   "execution_count": null,
   "id": "9542df89-eb7e-4031-9a23-b78fcb18dee3",
   "metadata": {},
   "outputs": [],
   "source": []
  }
 ],
 "metadata": {
  "kernelspec": {
   "display_name": "Python 3 (ipykernel)",
   "language": "python",
   "name": "python3"
  },
  "language_info": {
   "codemirror_mode": {
    "name": "ipython",
    "version": 3
   },
   "file_extension": ".py",
   "mimetype": "text/x-python",
   "name": "python",
   "nbconvert_exporter": "python",
   "pygments_lexer": "ipython3",
   "version": "3.11.8"
  }
 },
 "nbformat": 4,
 "nbformat_minor": 5
}
